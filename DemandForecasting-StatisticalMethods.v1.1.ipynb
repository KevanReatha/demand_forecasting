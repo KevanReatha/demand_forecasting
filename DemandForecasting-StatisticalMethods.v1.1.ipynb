{
 "cells": [
  {
   "cell_type": "markdown",
   "id": "8544d4f6",
   "metadata": {},
   "source": [
    "# Plan\n",
    "\n",
    "1) Setup \\\n",
    "2) Load Data \\\n",
    "3) Data wrangling\\\n",
    "4) Statistical Methods"
   ]
  },
  {
   "cell_type": "markdown",
   "id": "cbbe04ad",
   "metadata": {},
   "source": [
    "___"
   ]
  },
  {
   "cell_type": "markdown",
   "id": "12ce9aab",
   "metadata": {},
   "source": [
    "# 1 | Setup"
   ]
  },
  {
   "cell_type": "code",
   "execution_count": 1,
   "id": "d80cb2ea",
   "metadata": {},
   "outputs": [],
   "source": [
    "# Python ≥3.5 is required\n",
    "import sys\n",
    "assert sys.version_info >= (3, 5)\n",
    "\n",
    "# Scikit-Learn ≥0.20 is required\n",
    "import sklearn\n",
    "assert sklearn.__version__ >= \"0.20\"\n",
    "\n",
    "# Common imports\n",
    "import numpy as np\n",
    "import os\n",
    "\n",
    "# To plot pretty figures\n",
    "%matplotlib inline\n",
    "import matplotlib as mpl\n",
    "import matplotlib.pyplot as plt\n",
    "mpl.rc('axes', labelsize=14)\n",
    "mpl.rc('xtick', labelsize=12)\n",
    "mpl.rc('ytick', labelsize=12)\n",
    "color_pal = [\"#F8766D\", \"#D39200\", \"#93AA00\", \"#00BA38\", \"#00C19F\", \"#00B9E3\", \"#619CFF\", \"#DB72FB\"]\n",
    "\n",
    "# Where to save the figures\n",
    "PROJECT_ROOT_DIR = \".\"\n",
    "CHAPTER_ID = \"Forecasting_Retail_Australia\"\n",
    "IMAGES_PATH = os.path.join(PROJECT_ROOT_DIR, \"images\", CHAPTER_ID)\n",
    "os.makedirs(IMAGES_PATH, exist_ok=True)\n",
    "\n",
    "def save_fig(fig_id, tight_layout=True, fig_extension=\"png\", resolution=300):\n",
    "    path = os.path.join(IMAGES_PATH, fig_id + \".\" + fig_extension)\n",
    "    print(\"Saving figure\", fig_id)\n",
    "    if tight_layout:\n",
    "        plt.tight_layout()\n",
    "    plt.savefig(path, format=fig_extension, dpi=resolution)\n",
    "\n",
    "import numpy as np # linear algebra\n",
    "import pandas as pd # data processing, CSV file I/O (e.g. pd.read_csv)\n",
    "pd.set_option('display.max_columns', None)\n",
    "# pd.set_option('display.float_format', '{:.2%}'.format)\n",
    "\n",
    "import seaborn as sns\n",
    "import matplotlib.pyplot as plt\n",
    "\n",
    "from sklearn.metrics import mean_squared_error, mean_absolute_error\n",
    "plt.style.use('fivethirtyeight')"
   ]
  },
  {
   "cell_type": "markdown",
   "id": "50319463",
   "metadata": {},
   "source": [
    "___"
   ]
  },
  {
   "cell_type": "markdown",
   "id": "ceb16aa0",
   "metadata": {},
   "source": [
    "# 2 | Load Data"
   ]
  },
  {
   "cell_type": "code",
   "execution_count": 5,
   "id": "f58d78d3",
   "metadata": {},
   "outputs": [],
   "source": [
    "# Get Actuals from Jan 2017 to December 2022\n",
    "df = pd.read_csv('Actuals_Retail_Australia_2017To2022.csv', \n",
    "                 skipfooter=1, \n",
    "                 parse_dates=['Date'], \n",
    "                 dayfirst=True, \n",
    "                 index_col=[0], \n",
    "                 engine='python')\n",
    "\n",
    "df.rename(columns = {'Sum of Quantity' : 'Quantity'}, inplace=True)"
   ]
  },
  {
   "cell_type": "code",
   "execution_count": 6,
   "id": "9f007d3c",
   "metadata": {},
   "outputs": [],
   "source": [
    "# Select only B500BT17\n",
    "product_ = 'B500BT17'\n",
    "\n",
    "df = df[df[\"Item\"].values == product_]"
   ]
  },
  {
   "cell_type": "markdown",
   "id": "dfc1faba",
   "metadata": {},
   "source": [
    "____"
   ]
  },
  {
   "cell_type": "markdown",
   "id": "c0f53ef7",
   "metadata": {},
   "source": [
    "# 3 | Data Wrangling"
   ]
  },
  {
   "cell_type": "code",
   "execution_count": 7,
   "id": "562b15f4",
   "metadata": {},
   "outputs": [
    {
     "data": {
      "text/html": [
       "<div>\n",
       "<style scoped>\n",
       "    .dataframe tbody tr th:only-of-type {\n",
       "        vertical-align: middle;\n",
       "    }\n",
       "\n",
       "    .dataframe tbody tr th {\n",
       "        vertical-align: top;\n",
       "    }\n",
       "\n",
       "    .dataframe thead th {\n",
       "        text-align: right;\n",
       "    }\n",
       "</style>\n",
       "<table border=\"1\" class=\"dataframe\">\n",
       "  <thead>\n",
       "    <tr style=\"text-align: right;\">\n",
       "      <th></th>\n",
       "      <th>Location</th>\n",
       "      <th>Item</th>\n",
       "      <th>Quantity</th>\n",
       "      <th>Year</th>\n",
       "      <th>Month</th>\n",
       "      <th>Day</th>\n",
       "      <th>inserted_date</th>\n",
       "    </tr>\n",
       "    <tr>\n",
       "      <th>Date</th>\n",
       "      <th></th>\n",
       "      <th></th>\n",
       "      <th></th>\n",
       "      <th></th>\n",
       "      <th></th>\n",
       "      <th></th>\n",
       "      <th></th>\n",
       "    </tr>\n",
       "  </thead>\n",
       "  <tbody>\n",
       "    <tr>\n",
       "      <th>2017-01-01</th>\n",
       "      <td>Aesop Carindale</td>\n",
       "      <td>B500BT17</td>\n",
       "      <td>1.0</td>\n",
       "      <td>2017</td>\n",
       "      <td>1</td>\n",
       "      <td>1</td>\n",
       "      <td>2017-01-01</td>\n",
       "    </tr>\n",
       "    <tr>\n",
       "      <th>2017-01-01</th>\n",
       "      <td>Aesop Chadstone</td>\n",
       "      <td>B500BT17</td>\n",
       "      <td>2.0</td>\n",
       "      <td>2017</td>\n",
       "      <td>1</td>\n",
       "      <td>1</td>\n",
       "      <td>2017-01-01</td>\n",
       "    </tr>\n",
       "    <tr>\n",
       "      <th>2017-01-01</th>\n",
       "      <td>Aesop Claremont Quarter</td>\n",
       "      <td>B500BT17</td>\n",
       "      <td>1.0</td>\n",
       "      <td>2017</td>\n",
       "      <td>1</td>\n",
       "      <td>1</td>\n",
       "      <td>2017-01-01</td>\n",
       "    </tr>\n",
       "    <tr>\n",
       "      <th>2017-01-01</th>\n",
       "      <td>Aesop Doncaster</td>\n",
       "      <td>B500BT17</td>\n",
       "      <td>3.0</td>\n",
       "      <td>2017</td>\n",
       "      <td>1</td>\n",
       "      <td>1</td>\n",
       "      <td>2017-01-01</td>\n",
       "    </tr>\n",
       "    <tr>\n",
       "      <th>2017-01-01</th>\n",
       "      <td>Aesop Emporium I</td>\n",
       "      <td>B500BT17</td>\n",
       "      <td>2.0</td>\n",
       "      <td>2017</td>\n",
       "      <td>1</td>\n",
       "      <td>1</td>\n",
       "      <td>2017-01-01</td>\n",
       "    </tr>\n",
       "  </tbody>\n",
       "</table>\n",
       "</div>"
      ],
      "text/plain": [
       "                           Location      Item  Quantity  Year  Month  Day  \\\n",
       "Date                                                                        \n",
       "2017-01-01          Aesop Carindale  B500BT17       1.0  2017      1    1   \n",
       "2017-01-01          Aesop Chadstone  B500BT17       2.0  2017      1    1   \n",
       "2017-01-01  Aesop Claremont Quarter  B500BT17       1.0  2017      1    1   \n",
       "2017-01-01          Aesop Doncaster  B500BT17       3.0  2017      1    1   \n",
       "2017-01-01         Aesop Emporium I  B500BT17       2.0  2017      1    1   \n",
       "\n",
       "           inserted_date  \n",
       "Date                      \n",
       "2017-01-01    2017-01-01  \n",
       "2017-01-01    2017-01-01  \n",
       "2017-01-01    2017-01-01  \n",
       "2017-01-01    2017-01-01  \n",
       "2017-01-01    2017-01-01  "
      ]
     },
     "execution_count": 7,
     "metadata": {},
     "output_type": "execute_result"
    }
   ],
   "source": [
    "df['Year'] = df.index.year \n",
    "df['Month'] = df.index.month \n",
    "df['Day'] = 1\n",
    "\n",
    "from datetime import datetime, timedelta\n",
    "df['inserted_date'] = pd.to_datetime(df[['Year', 'Month', 'Day']])\n",
    "df.head()"
   ]
  },
  {
   "cell_type": "markdown",
   "id": "e2004c2a",
   "metadata": {},
   "source": [
    "#### Group by month-year"
   ]
  },
  {
   "cell_type": "code",
   "execution_count": 8,
   "id": "cc7c9bfc",
   "metadata": {},
   "outputs": [
    {
     "data": {
      "text/html": [
       "<div>\n",
       "<style scoped>\n",
       "    .dataframe tbody tr th:only-of-type {\n",
       "        vertical-align: middle;\n",
       "    }\n",
       "\n",
       "    .dataframe tbody tr th {\n",
       "        vertical-align: top;\n",
       "    }\n",
       "\n",
       "    .dataframe thead th {\n",
       "        text-align: right;\n",
       "    }\n",
       "</style>\n",
       "<table border=\"1\" class=\"dataframe\">\n",
       "  <thead>\n",
       "    <tr style=\"text-align: right;\">\n",
       "      <th></th>\n",
       "      <th>Quantity</th>\n",
       "    </tr>\n",
       "    <tr>\n",
       "      <th>inserted_date</th>\n",
       "      <th></th>\n",
       "    </tr>\n",
       "  </thead>\n",
       "  <tbody>\n",
       "    <tr>\n",
       "      <th>2017-01-01</th>\n",
       "      <td>1952.0</td>\n",
       "    </tr>\n",
       "    <tr>\n",
       "      <th>2017-02-01</th>\n",
       "      <td>1898.0</td>\n",
       "    </tr>\n",
       "    <tr>\n",
       "      <th>2017-03-01</th>\n",
       "      <td>2052.0</td>\n",
       "    </tr>\n",
       "    <tr>\n",
       "      <th>2017-04-01</th>\n",
       "      <td>2016.0</td>\n",
       "    </tr>\n",
       "    <tr>\n",
       "      <th>2017-05-01</th>\n",
       "      <td>1977.0</td>\n",
       "    </tr>\n",
       "  </tbody>\n",
       "</table>\n",
       "</div>"
      ],
      "text/plain": [
       "               Quantity\n",
       "inserted_date          \n",
       "2017-01-01       1952.0\n",
       "2017-02-01       1898.0\n",
       "2017-03-01       2052.0\n",
       "2017-04-01       2016.0\n",
       "2017-05-01       1977.0"
      ]
     },
     "execution_count": 8,
     "metadata": {},
     "output_type": "execute_result"
    }
   ],
   "source": [
    "result_g = df.groupby([df.inserted_date]).agg({'Quantity':sum})\n",
    "\n",
    "result_gs = result_g[result_g.index < '2022-08-01']\n",
    "result_gs.head()"
   ]
  },
  {
   "cell_type": "markdown",
   "id": "9e5fef0d",
   "metadata": {},
   "source": [
    "# 4 | Statistical methods"
   ]
  },
  {
   "cell_type": "markdown",
   "id": "bb393329",
   "metadata": {},
   "source": [
    "## 4.1 Moving Average"
   ]
  },
  {
   "cell_type": "markdown",
   "id": "6fb85369",
   "metadata": {},
   "source": [
    "The idea behind:\n",
    "The moving average model is based on the idea that future demand is similar to the recent demand we observed. With this model, we simply assume that the forecast is the average demand during the last n periods."
   ]
  },
  {
   "cell_type": "markdown",
   "id": "8bff7a8e",
   "metadata": {},
   "source": [
    "Limitations:\n",
    "- No Trend: The model does not see any trend\n",
    "- No Seasonality: The model will not properly react to seasonality\n",
    "- Flat Historical Weighting: A moving average will allocate an equal weight to all the historical periods that are taken into account."
   ]
  },
  {
   "cell_type": "markdown",
   "id": "4d44b211",
   "metadata": {},
   "source": [
    "![moving avrerage formula](moving_avg_formula.png) "
   ]
  },
  {
   "cell_type": "markdown",
   "id": "ac7046b4",
   "metadata": {},
   "source": [
    "Let's define a function moving_average(d, extra_periods=1, n=3) that takes three inputs:\n",
    "- d: A time series that contains the historical demand\n",
    "- extra_periods: The number of periods we want to forecast in the future\n",
    "- n: The number of periods we will average"
   ]
  },
  {
   "cell_type": "code",
   "execution_count": 13,
   "id": "6fc322b6",
   "metadata": {},
   "outputs": [],
   "source": [
    "def moving_average(d, extra_periods=1, n=3):\n",
    "    # Historical period length\n",
    "    cols = len(d)\n",
    "    # Append np.nan into the demand array to cover future periods\n",
    "    d = np.append(d,[np.nan]*extra_periods)\n",
    "    # Define the forecast array\n",
    "    f = np.full(cols+extra_periods,np.nan)\n",
    "    \n",
    "    # Create all the t+1 forecast until end of historical period\n",
    "    for t in range(n,cols):\n",
    "        f[t] = np.mean(d[t-n:t])\n",
    "    \n",
    "    # Forecast for all extra periods\n",
    "    f[t+1:] = np.mean(d[t-n+1:t+1])\n",
    "    \n",
    "    # Return a DataFrame with demand, forecast and error\n",
    "    df = pd.DataFrame.from_dict({'Demand':d, 'Forecast':f, 'Error':d-f})\n",
    "    \n",
    "    return df"
   ]
  },
  {
   "cell_type": "code",
   "execution_count": 34,
   "id": "b22593cd",
   "metadata": {},
   "outputs": [
    {
     "data": {
      "text/plain": [
       "<AxesSubplot:title={'center':'Moving Average'}, xlabel='Period'>"
      ]
     },
     "execution_count": 34,
     "metadata": {},
     "output_type": "execute_result"
    },
    {
     "data": {
      "image/png": "[encoded data removed]",
      "text/plain": [
       "<Figure size 576x216 with 1 Axes>"
      ]
     },
     "metadata": {},
     "output_type": "display_data"
    }
   ],
   "source": [
    "d = result_gs['Quantity']\n",
    "df = moving_average(d, extra_periods=6, n=3)\n",
    "df.index.name = 'Period'\n",
    "df[['Demand', 'Forecast']].plot(figsize=(8,3), title='Moving Average', style=['-','--'])"
   ]
  },
  {
   "cell_type": "markdown",
   "id": "56d5eebb",
   "metadata": {},
   "source": [
    "### Demand KPI"
   ]
  },
  {
   "cell_type": "markdown",
   "id": "8e64af1e",
   "metadata": {},
   "source": [
    "#### Bias\n",
    "The bias represents the overall direction of the historical acerage error. It measures if your forecast were on average too high or too low."
   ]
  },
  {
   "cell_type": "markdown",
   "id": "58edd882",
   "metadata": {},
   "source": [
    "![bias formula](bias_formula.png) "
   ]
  },
  {
   "cell_type": "code",
   "execution_count": 21,
   "id": "d4a4b776",
   "metadata": {},
   "outputs": [],
   "source": [
    " def kpi(df):\n",
    "        dem_ave = df.loc[df['Error'].notnull(), 'Demand'].mean()\n",
    "        bias_abs = df['Error'].mean()\n",
    "        bias_rel = bias_abs / dem_ave\n",
    "        print('Bias: {:0.2f}, {:.2%}'.format(bias_abs,bias_rel))"
   ]
  },
  {
   "cell_type": "code",
   "execution_count": 22,
   "id": "12df5d51",
   "metadata": {},
   "outputs": [
    {
     "name": "stdout",
     "output_type": "stream",
     "text": [
      "Bias: 12.35, 0.51%\n"
     ]
    }
   ],
   "source": [
    "kpi(df)"
   ]
  },
  {
   "cell_type": "markdown",
   "id": "60532c24",
   "metadata": {},
   "source": [
    "#### MAPE\n",
    "The Mean Absolute Percentage Error is one of the most commonly used KPIs to emasure accuracy is computed as the average of the individual absolute errors divided by the demand (each period is divided separately). To put it simply, it is the average of the percentage absolute errors."
   ]
  },
  {
   "cell_type": "markdown",
   "id": "061fd2ce",
   "metadata": {},
   "source": [
    "![mape formula](mape_formula.png) "
   ]
  },
  {
   "cell_type": "code",
   "execution_count": 23,
   "id": "7a58df4e",
   "metadata": {},
   "outputs": [],
   "source": [
    " def kpi(df):\n",
    "        dem_ave = df.loc[df['Error'].notnull(), 'Demand'].mean()\n",
    "        bias_abs = df['Error'].mean()\n",
    "        bias_rel = bias_abs / dem_ave\n",
    "        print('Bias: {:0.2f}, {:.2%}'.format(bias_abs,bias_rel))\n",
    "        MAPE = (df['Error'].abs()/df['Demand']).mean()\n",
    "        print('MAPE: {:.2%}'.format(MAPE))"
   ]
  },
  {
   "cell_type": "code",
   "execution_count": 24,
   "id": "15de9308",
   "metadata": {},
   "outputs": [
    {
     "name": "stdout",
     "output_type": "stream",
     "text": [
      "Bias: 12.35, 0.51%\n",
      "MAPE: 4195.83%\n"
     ]
    }
   ],
   "source": [
    "kpi(df)"
   ]
  },
  {
   "cell_type": "markdown",
   "id": "aac40967",
   "metadata": {},
   "source": [
    "#### MAE\n",
    "\n",
    "The Mean Absolute Error (MAE) is a very good KPI to measure forecast accuracy. As the name implies, it is the mean of the absolute error."
   ]
  },
  {
   "cell_type": "markdown",
   "id": "4307fc1f",
   "metadata": {},
   "source": [
    "![mae formula](mae_formula.png) "
   ]
  },
  {
   "cell_type": "code",
   "execution_count": 26,
   "id": "656647c7",
   "metadata": {},
   "outputs": [],
   "source": [
    " def kpi(df):\n",
    "        dem_ave = df.loc[df['Error'].notnull(), 'Demand'].mean()\n",
    "        bias_abs = df['Error'].mean()\n",
    "        bias_rel = bias_abs / dem_ave\n",
    "        print('Bias: {:0.2f}, {:.2%}'.format(bias_abs,bias_rel))\n",
    "        MAPE = (df['Error'].abs()/df['Demand']).mean()\n",
    "        print('MAPE: {:.2%}'.format(MAPE))\n",
    "        MAE_abs = df['Error'].abs().mean()\n",
    "        MAE_rel = MAE_abs / dem_ave\n",
    "        print('MAE: {:0.2f}, {:.2%}'.format(MAE_abs, MAE_rel))"
   ]
  },
  {
   "cell_type": "code",
   "execution_count": 27,
   "id": "cac4f9ad",
   "metadata": {
    "scrolled": true
   },
   "outputs": [
    {
     "name": "stdout",
     "output_type": "stream",
     "text": [
      "Bias: 12.35, 0.51%\n",
      "MAPE: 4195.83%\n",
      "MAE: 739.87, 30.83%\n"
     ]
    }
   ],
   "source": [
    "kpi(df)"
   ]
  },
  {
   "cell_type": "markdown",
   "id": "91a9bbb6",
   "metadata": {},
   "source": [
    "## 4.2 Exponential Smoothing"
   ]
  },
  {
   "cell_type": "markdown",
   "id": "00a70fe5",
   "metadata": {},
   "source": [
    "The idea behind:\n",
    "This model assume that the future will be more or less the same as the recent past. The only pattern that this model will be able to learn from demand history is its Level.\n",
    "\n",
    "The level is the average value around which the demand varies over time. As per below the level is a smoothed version of the demand.\n"
   ]
  },
  {
   "cell_type": "markdown",
   "id": "4a052981",
   "metadata": {},
   "source": [
    "![mae formula](expo_smoothing_explanation.png) "
   ]
  },
  {
   "cell_type": "markdown",
   "id": "7ac275cf",
   "metadata": {},
   "source": [
    "The exponential smoothing model is slightly smarter than the moving average model, thanks to its clever weighting of the historical demand objservations\n",
    "\n",
    "Limitations: \n",
    "- No Trend: it does not project trends\n",
    "- No Seasonality: it does not recognize any seasonal pattern\n",
    "\n",
    "Also it cannot (natively) use any external explanatory variables (pricing, marketing expenses...)"
   ]
  },
  {
   "cell_type": "markdown",
   "id": "d9bd65cb",
   "metadata": {},
   "source": [
    "Let's define a function simple_exp_smooth() that takes three parameters:\n",
    "- d: The time series to forecast\n",
    "- extra_perios=1: The number of periods that need to be forecast into the future\n",
    "- alpha=0.4: The smoothing alpha parameter"
   ]
  },
  {
   "cell_type": "code",
   "execution_count": 28,
   "id": "396f5cba",
   "metadata": {},
   "outputs": [],
   "source": [
    "def simple_exp_smooth(d, extra_periods=1, alpha=0.4):\n",
    "    \n",
    "    # Historical period length\n",
    "    cols = len(d)\n",
    "    # Append np.nan into the demand array to cover futur periods\n",
    "    d = np.append(d,[np.nan]*extra_periods)\n",
    "    \n",
    "    # Forecast array\n",
    "    f = np.full(cols+extra_periods,np.nan)\n",
    "    # initialization of first forecast\n",
    "    f[1] = d[0]\n",
    "    \n",
    "    # Create all the t+1 forecast until end of historical period\n",
    "    for t in range(2,cols+1):\n",
    "        f[t] = alpha*d[t-1]+(1-alpha)*f[t-1]\n",
    "    \n",
    "    # Forecast for all extra periods\n",
    "    for t in range(cols+1,cols+extra_periods):\n",
    "        # Update the forecast as the previous forecast\n",
    "        f[t] = f[t-1]\n",
    "    \n",
    "    df = pd.DataFrame.from_dict({'Demand':d,'Forecast':f,'Error':d-f})\n",
    "    \n",
    "    return df"
   ]
  },
  {
   "cell_type": "code",
   "execution_count": 43,
   "id": "95764f44",
   "metadata": {},
   "outputs": [
    {
     "data": {
      "text/plain": [
       "<AxesSubplot:title={'center':'Simple Smoothing'}, xlabel='Period'>"
      ]
     },
     "execution_count": 43,
     "metadata": {},
     "output_type": "execute_result"
    },
    {
     "data": {
      "image/png": "[encoded data removed]",
      "text/plain": [
       "<Figure size 576x216 with 1 Axes>"
      ]
     },
     "metadata": {},
     "output_type": "display_data"
    }
   ],
   "source": [
    "d = result_gs['Quantity']\n",
    "df = simple_exp_smooth(d, extra_periods=6)\n",
    "df.index.name = 'Period'\n",
    "df[['Demand', 'Forecast']].plot(figsize=(8,3), title='Simple Smoothing', style=['-','--'])"
   ]
  },
  {
   "cell_type": "code",
   "execution_count": 30,
   "id": "68429daf",
   "metadata": {},
   "outputs": [
    {
     "name": "stdout",
     "output_type": "stream",
     "text": [
      "Bias: 18.65, 0.78%\n",
      "MAPE: 4729.42%\n",
      "MAE: 659.20, 27.62%\n"
     ]
    }
   ],
   "source": [
    "kpi(df)"
   ]
  },
  {
   "cell_type": "markdown",
   "id": "2ccb7ad0",
   "metadata": {},
   "source": [
    "## 4.3 Double Exponential Smoothing"
   ]
  },
  {
   "cell_type": "markdown",
   "id": "21dc4a9b",
   "metadata": {},
   "source": [
    "The idea behind:\n",
    "Starting from a Exponential Smoothing that identifies the level, the double exp Smoothing can identify and project a trend.\n",
    "\n",
    "We define the trend as the average variation of the time series level between two consecutive periods. Remember that the level is the average value around which the demand varies over time.\n",
    "\n",
    "Just as for the level, this new model will estimate the trend based on exponential beta, giving more (or less) importance to the most recent observations."
   ]
  },
  {
   "cell_type": "markdown",
   "id": "f74a0ecf",
   "metadata": {},
   "source": [
    "Level and Trend will be updated after each period based on two same pieces of information: the last observation and the previous estimation of this component."
   ]
  },
  {
   "cell_type": "markdown",
   "id": "9237790c",
   "metadata": {},
   "source": [
    "![double exp smooth formula](double_exp_smooth_formula.png) "
   ]
  },
  {
   "cell_type": "markdown",
   "id": "b865f096",
   "metadata": {},
   "source": [
    "![double exp smooth formula](double_exp_smooth_formula2.png) "
   ]
  },
  {
   "cell_type": "markdown",
   "id": "c3d3fa83",
   "metadata": {},
   "source": [
    "Limitations:\n",
    "- This model will assume that the trend will go on forever\n",
    "- No seasonality\n",
    "- Cannot take external information into account"
   ]
  },
  {
   "cell_type": "markdown",
   "id": "55f28508",
   "metadata": {},
   "source": [
    "Let's create a function double_exp_smooth() that takes d and extra periods"
   ]
  },
  {
   "cell_type": "code",
   "execution_count": 70,
   "id": "e559e2fb",
   "metadata": {},
   "outputs": [],
   "source": [
    "def double_exp_smooth(d, extra_periods=1, alpha=0.4, beta=0.4):\n",
    "    \n",
    "    \n",
    "    # Historical period length\n",
    "    cols = len(d)\n",
    "    # Append np.nan into the demand array to cover future periods\n",
    "    d = np.append(d,[np.nan]*extra_periods)\n",
    "    \n",
    "    # Creation of the level, trend and forecast arrays\n",
    "    f,a,b = np.full((3,cols+extra_periods),np.nan)\n",
    "    \n",
    "    # Level and Trend initialization\n",
    "    a[0] = d[0]\n",
    "    b[0] = d[1] - d[0]\n",
    "    \n",
    "    # Create all the t+1 forecast\n",
    "    for t in range(1,cols):\n",
    "        f[t] = a[t-1] + b[t-1]\n",
    "        a[t] = alpha*d[t] + (1-alpha)*(a[t-1]+b[t-1])\n",
    "        b[t] = beta*(a[t]-a[t-1]) + (1-beta)*b[t-1]\n",
    "    \n",
    "    # Forecast for all extra periods\n",
    "    for t in range(cols,cols+extra_periods):\n",
    "        f[t] = a[t-1] + b[t-1]\n",
    "        a[t] = f[t]\n",
    "        b[t] = b[t-1]\n",
    "    \n",
    "    df = pd.DataFrame.from_dict({'Demand':d,'Forecast':f,'Level':a, 'Trend':b, 'Error':d-f})\n",
    "    \n",
    "    return df"
   ]
  },
  {
   "cell_type": "code",
   "execution_count": 71,
   "id": "ba6bff9e",
   "metadata": {},
   "outputs": [
    {
     "data": {
      "text/plain": [
       "<AxesSubplot:title={'center':'Double Smoothing'}, xlabel='Period'>"
      ]
     },
     "execution_count": 71,
     "metadata": {},
     "output_type": "execute_result"
    },
    {
     "data": {
      "image/png": "[encoded data removed]",
      "text/plain": [
       "<Figure size 576x216 with 1 Axes>"
      ]
     },
     "metadata": {},
     "output_type": "display_data"
    }
   ],
   "source": [
    "d = result_gs['Quantity']\n",
    "df = double_exp_smooth(d, extra_periods=6)\n",
    "df.index.name = 'Period'\n",
    "df[['Demand', 'Forecast']].plot(figsize=(8,3), title='Double Smoothing', style=['-','--'])"
   ]
  },
  {
   "cell_type": "code",
   "execution_count": 72,
   "id": "6eba64b0",
   "metadata": {},
   "outputs": [
    {
     "name": "stdout",
     "output_type": "stream",
     "text": [
      "Bias: -11.87, -0.50%\n",
      "MAPE: 5078.73%\n",
      "MAE: 875.20, 36.67%\n"
     ]
    }
   ],
   "source": [
    "kpi(df)"
   ]
  },
  {
   "cell_type": "markdown",
   "id": "66710624",
   "metadata": {},
   "source": [
    "### Optimisation model\n",
    "We will implement an optimization function exp_smooth_opti(d, extra_periods=6) that will test multiple models and return the best one.\n"
   ]
  },
  {
   "cell_type": "code",
   "execution_count": 74,
   "id": "88fd6fd8",
   "metadata": {},
   "outputs": [],
   "source": [
    "def exp_smooth_opti(d, extra_periods=6):\n",
    "    \n",
    "    params = [] # contains all the different parameter sets\n",
    "    KPIs = [] # contains the results of each model\n",
    "    dfs = [] # contains all the DataFrames returned by the different models\n",
    "    \n",
    "    for alpha in [0.05, 0.1, 0.2, 0.3, 0.4, 0.5, 0.6]:\n",
    "        \n",
    "        df = simple_exp_smooth(d, extra_periods=extra_periods, alpha=alpha)\n",
    "        params.append(f\"Simple Smoothing, alpha: {alpha}\")\n",
    "        dfs.append(df)\n",
    "        MAE = df['Error'].abs().mean()\n",
    "        KPIs.append(MAE)\n",
    "        \n",
    "        for beta in [0.05, 0.1, 0.2, 0.3, 0.4]:\n",
    "            \n",
    "            df = double_exp_smooth(d,extra_periods=extra_periods,alpha=alpha,beta=beta)\n",
    "            params.append(f\"Double Smoothing, alpha:{alpha}, beta:{beta}\")\n",
    "            dfs.append(df)\n",
    "            MAE = df['Error'].abs().mean()\n",
    "            KPIs.append(MAE)\n",
    "    mini = np.argmin(KPIs)\n",
    "    print(f\"Best Solution found for {params[mini]} MAE of\", round(KPIs[mini],2))\n",
    "    \n",
    "    return dfs[mini]"
   ]
  },
  {
   "cell_type": "code",
   "execution_count": 75,
   "id": "ce6b4076",
   "metadata": {},
   "outputs": [
    {
     "name": "stdout",
     "output_type": "stream",
     "text": [
      "Best Solution found for Simple Smoothing, alpha: 0.05 MAE of 569.39\n"
     ]
    }
   ],
   "source": [
    "d = result_gs['Quantity']\n",
    "df = exp_smooth_opti(d)"
   ]
  },
  {
   "cell_type": "code",
   "execution_count": 81,
   "id": "28e56e9a",
   "metadata": {},
   "outputs": [
    {
     "data": {
      "text/plain": [
       "<AxesSubplot:title={'center':'Double Smoothing'}>"
      ]
     },
     "execution_count": 81,
     "metadata": {},
     "output_type": "execute_result"
    },
    {
     "data": {
      "image/png": "[encoded data removed]",
      "text/plain": [
       "<Figure size 576x216 with 1 Axes>"
      ]
     },
     "metadata": {},
     "output_type": "display_data"
    }
   ],
   "source": [
    "df[['Demand', 'Forecast']].plot(figsize=(8,3), title='Best model found', style=['-','--'])"
   ]
  },
  {
   "cell_type": "code",
   "execution_count": null,
   "id": "d066a6cf",
   "metadata": {},
   "outputs": [],
   "source": []
  },
  {
   "cell_type": "code",
   "execution_count": null,
   "id": "70bb41ba",
   "metadata": {},
   "outputs": [],
   "source": []
  },
  {
   "cell_type": "code",
   "execution_count": null,
   "id": "41234f34",
   "metadata": {},
   "outputs": [],
   "source": []
  },
  {
   "cell_type": "code",
   "execution_count": null,
   "id": "d19ffaa8",
   "metadata": {},
   "outputs": [],
   "source": []
  },
  {
   "cell_type": "code",
   "execution_count": null,
   "id": "1c496026",
   "metadata": {},
   "outputs": [],
   "source": []
  },
  {
   "cell_type": "markdown",
   "id": "649381ef",
   "metadata": {},
   "source": [
    "____"
   ]
  }
 ],
 "metadata": {
  "kernelspec": {
   "display_name": "Python 3 (ipykernel)",
   "language": "python",
   "name": "python3"
  },
  "language_info": {
   "codemirror_mode": {
    "name": "ipython",
    "version": 3
   },
   "file_extension": ".py",
   "mimetype": "text/x-python",
   "name": "python",
   "nbconvert_exporter": "python",
   "pygments_lexer": "ipython3",
   "version": "3.9.12"
  }
 },
 "nbformat": 4,
 "nbformat_minor": 5
}
